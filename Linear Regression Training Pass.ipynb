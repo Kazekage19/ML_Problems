{
 "cells": [
  {
   "cell_type": "markdown",
   "id": "97865268",
   "metadata": {},
   "source": [
    "Now that you've implemented get_model_prediction() for a model, it's time to implement the training loop. At every iteration of the training loop, the previous function as well as get_derivative() should be called in order to perform gradient descent.\n",
    "\n",
    "Your goal is to implement the train_model() function, which has the following as input:\n",
    "\n",
    "X: The dataset for training the model. X.length = n and X[i].length = 3 for 0 <= i < n.\n",
    "Y: The correct answers from the dataset. Y.length = n.\n",
    "num_iterations: The number of iterations to run gradient descent for. num_iterations > 0.\n",
    "initial_weights: The initial weights for the model (w1,w2,w3) initial_weights.length = 3.\n",
    "Return the final weights after training in the form of a NumPy array with dimension 3."
   ]
  },
  {
   "cell_type": "code",
   "execution_count": 2,
   "id": "e81bad45",
   "metadata": {},
   "outputs": [],
   "source": [
    "import numpy as np\n",
    "from numpy.typing import NDArray\n",
    "class Solution:\n",
    "    def get_derivative(self, model_prediction: NDArray[np.float64], ground_truth: NDArray[np.float64], N: int, X: NDArray[np.float64], desired_weight: int) -> float:\n",
    "        # note that N is just len(X)\n",
    "        return -2 * np.dot(ground_truth - model_prediction, X[:, desired_weight]) / N\n",
    "\n",
    "    def get_model_prediction(self, X: NDArray[np.float64], weights: NDArray[np.float64]) -> NDArray[np.float64]:\n",
    "        return np.squeeze(np.matmul(X, weights))\n",
    "    learning_rate = 0.01\n",
    "    def train_model(\n",
    "        self, \n",
    "        X: NDArray[np.float64], \n",
    "        Y: NDArray[np.float64], \n",
    "        num_iterations: int, \n",
    "        initial_weights: NDArray[np.float64]\n",
    "    ) -> NDArray[np.float64]:\n",
    "\n",
    "        # you will need to call get_derivative() for each weight\n",
    "        # and update each one separately based on the learning rate!\n",
    "        # return np.round(your_answer, 5)\n",
    "        for i in range(num_iterations):\n",
    "            pred= self.get_model_prediction(X,initial_weights)\n",
    "            d1=self.get_derivative(pred,Y,len(X),X,0)\n",
    "            d2=self.get_derivative(pred,Y,len(X),X,1)\n",
    "            d3= self.get_derivative(pred,Y,len(X),X,2)\n",
    "            \n",
    "            initial_weights[0]-= d1*self.learning_rate\n",
    "            initial_weights[1]-= d2*self.learning_rate\n",
    "            initial_weights[2]-= d3*self.learning_rate\n",
    "        return  np.round(initial_weights,5)\n",
    "        \n",
    "        pass"
   ]
  },
  {
   "cell_type": "code",
   "execution_count": null,
   "id": "a87e08c1",
   "metadata": {},
   "outputs": [],
   "source": []
  }
 ],
 "metadata": {
  "kernelspec": {
   "display_name": "Python 3 (ipykernel)",
   "language": "python",
   "name": "python3"
  },
  "language_info": {
   "codemirror_mode": {
    "name": "ipython",
    "version": 3
   },
   "file_extension": ".py",
   "mimetype": "text/x-python",
   "name": "python",
   "nbconvert_exporter": "python",
   "pygments_lexer": "ipython3",
   "version": "3.9.12"
  }
 },
 "nbformat": 4,
 "nbformat_minor": 5
}

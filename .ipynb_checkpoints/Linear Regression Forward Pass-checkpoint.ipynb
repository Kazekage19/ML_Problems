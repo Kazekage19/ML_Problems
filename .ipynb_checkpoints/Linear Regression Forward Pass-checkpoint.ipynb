{
 "cells": [
  {
   "cell_type": "markdown",
   "id": "16a07e59",
   "metadata": {},
   "source": [
    "Your task is to implement linear regression, a statistical model that ends up being the foundation of neural networks. You can learn more from the Complete Explanation of Linear Regression or by reading the description below.\n",
    "\n",
    "Your must implement get_model_prediction() which returns a prediction value for each dataset value, and get_error() which calculates the error for given prediction data.\n",
    "\n",
    "Inputs - get_model_prediction:\n",
    "\n",
    "X - the dataset to be used by the model to predict the output. len(X) = n, and len(X[i]) = 3 for 0 <= i < n.\n",
    "weights - the current \n",
    "  weights for the model. len(weights) = 3.\n",
    "Inputs - get_error:\n",
    "\n",
    "model_prediction - the model's prediction for each training example. len(model_prediction) = n.\n",
    "ground_truth - the correct answer for each example. len(ground_truth) = n"
   ]
  },
  {
   "cell_type": "code",
   "execution_count": 2,
   "id": "69d4b91f",
   "metadata": {},
   "outputs": [],
   "source": [
    "import numpy as np\n",
    "from numpy.typing import NDArray\n",
    "class Solution:  \n",
    "    def get_model_prediction(self, X: NDArray[np.float64], weights: NDArray[np.float64]) -> NDArray[np.float64]:\n",
    "        # X is an Nx3 NumPy array\n",
    "        # weights is a 3x1 NumPy array\n",
    "        # HINT: np.matmul() will be useful\n",
    "        # return np.round(your_answer, 5)\n",
    "        preds=np.matmul(X,weights)\n",
    "        return np.round(preds,5)\n",
    "    def get_error(self, model_prediction: NDArray[np.float64], ground_truth: NDArray[np.float64]) -> float:\n",
    "        # model_prediction is an Nx1 NumPy array\n",
    "        # ground_truth is an Nx1 NumPy array\n",
    "        # HINT: np.mean(), np.square() will be useful\n",
    "        # return round(your_answer, 5)\n",
    "        error=np.mean(np.square(model_prediction-ground_truth))\n",
    "        return round(error,5)\n",
    "        \n"
   ]
  },
  {
   "cell_type": "code",
   "execution_count": null,
   "id": "aa42b1df",
   "metadata": {},
   "outputs": [],
   "source": []
  }
 ],
 "metadata": {
  "kernelspec": {
   "display_name": "Python 3 (ipykernel)",
   "language": "python",
   "name": "python3"
  },
  "language_info": {
   "codemirror_mode": {
    "name": "ipython",
    "version": 3
   },
   "file_extension": ".py",
   "mimetype": "text/x-python",
   "name": "python",
   "nbconvert_exporter": "python",
   "pygments_lexer": "ipython3",
   "version": "3.9.12"
  }
 },
 "nbformat": 4,
 "nbformat_minor": 5
}

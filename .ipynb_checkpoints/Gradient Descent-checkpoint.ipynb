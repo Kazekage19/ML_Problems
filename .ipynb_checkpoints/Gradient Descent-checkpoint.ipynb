{
 "cells": [
  {
   "cell_type": "markdown",
   "id": "ac5f1b4e",
   "metadata": {},
   "source": [
    "Your task is to minimize the function via Gradient Descent for F(x)=x^2\n",
    "\n",
    "Gradient Descent is an optimization technique widely used in machine learning for training models. It is crucial for minimizing the cost or loss function and finding the optimal parameters of a model.\n",
    "\n",
    "For the above function the minimizer is clearly x = 0, but you must implement an iterative approximation algorithm, through gradient descent.\n",
    "\n",
    "Input:\n",
    "\n",
    "iterations - the number of iterations to perform gradient descent. iterations >= 0.\n",
    "learning_rate - the learning rate for gradient descent. 1 > learning_rate > 0.\n",
    "init - the initial guess for the minimizer. init != 0.\n",
    "Given the number of iterations to perform gradient descent, the learning rate, and an initial guess, return the value of x that globally minimizes this function.\n",
    "\n",
    "Round your final result to 5 decimal places using Python's round() function.\n",
    "\n"
   ]
  },
  {
   "cell_type": "code",
   "execution_count": 1,
   "id": "902aefcf",
   "metadata": {},
   "outputs": [],
   "source": [
    "class Solution:\n",
    "    def get_minimizer(self, iterations: int, learning_rate: float, init: int) -> float:\n",
    "        fn=init\n",
    "        for i in range(iterations):\n",
    "            derivative= 2*fn\n",
    "            fn=fn- learning_rate* derivative\n",
    "        \n",
    "        return round(fn,5)\n",
    "        "
   ]
  },
  {
   "cell_type": "code",
   "execution_count": 2,
   "id": "e874c427",
   "metadata": {},
   "outputs": [],
   "source": [
    "obj=Solution()"
   ]
  },
  {
   "cell_type": "code",
   "execution_count": 3,
   "id": "26e306f7",
   "metadata": {},
   "outputs": [
    {
     "name": "stdout",
     "output_type": "stream",
     "text": [
      "4.08536\n"
     ]
    }
   ],
   "source": [
    "print(obj.get_minimizer(10,0.01,5))"
   ]
  },
  {
   "cell_type": "code",
   "execution_count": null,
   "id": "7c3e77e6",
   "metadata": {},
   "outputs": [],
   "source": []
  }
 ],
 "metadata": {
  "kernelspec": {
   "display_name": "Python 3 (ipykernel)",
   "language": "python",
   "name": "python3"
  },
  "language_info": {
   "codemirror_mode": {
    "name": "ipython",
    "version": 3
   },
   "file_extension": ".py",
   "mimetype": "text/x-python",
   "name": "python",
   "nbconvert_exporter": "python",
   "pygments_lexer": "ipython3",
   "version": "3.9.12"
  }
 },
 "nbformat": 4,
 "nbformat_minor": 5
}

{
 "cells": [
  {
   "cell_type": "code",
   "execution_count": 1,
   "id": "fd6712a2",
   "metadata": {},
   "outputs": [],
   "source": [
    "import numpy as np\n",
    "import torch"
   ]
  },
  {
   "cell_type": "code",
   "execution_count": 2,
   "id": "4f088b61",
   "metadata": {},
   "outputs": [],
   "source": [
    "# Input (temp, rainfall, humidity)\n",
    "inputs = np.array([[73, 67, 43], \n",
    "                   [91, 88, 64], \n",
    "                   [87, 134, 58], \n",
    "                   [102, 43, 37], \n",
    "                   [69, 96, 70]], dtype='float32')"
   ]
  },
  {
   "cell_type": "code",
   "execution_count": 3,
   "id": "be7883e0",
   "metadata": {},
   "outputs": [],
   "source": [
    "# Targets (apples, oranges)\n",
    "targets = np.array([[56, 70], \n",
    "                    [81, 101], \n",
    "                    [119, 133], \n",
    "                    [22, 37], \n",
    "                    [103, 119]], dtype='float32')"
   ]
  },
  {
   "cell_type": "code",
   "execution_count": 4,
   "id": "b93e3c18",
   "metadata": {},
   "outputs": [],
   "source": [
    "inputs=torch.from_numpy(inputs)\n",
    "targets=torch.from_numpy(targets)"
   ]
  },
  {
   "cell_type": "code",
   "execution_count": 5,
   "id": "f1e7d484",
   "metadata": {},
   "outputs": [],
   "source": [
    "lr=0.001\n",
    "epochs=1000"
   ]
  },
  {
   "cell_type": "markdown",
   "id": "eb5ec8ac",
   "metadata": {},
   "source": [
    "Initialize weights and biases.\n",
    "We have three dimensions of inputs and 2 dimensions of outputs.\n",
    "So we want the weight matrix to be in the shape that if we multiply n X 3 matrix by 3 X 2 to get n X 2 matrix. So w transpose will be of 2 X 3. "
   ]
  },
  {
   "cell_type": "code",
   "execution_count": 6,
   "id": "9585a506",
   "metadata": {},
   "outputs": [],
   "source": [
    "weights=torch.randn(2,3,requires_grad=True)\n",
    "bias=torch.randn(2, requires_grad=True)"
   ]
  },
  {
   "cell_type": "markdown",
   "id": "4719ab5d",
   "metadata": {},
   "source": [
    "`@` represents matrix multiplication in PyTorch, and the `.t` method returns the transpose of a tensor.\n",
    "The matrix obtained by passing the input data into the model is a set of predictions for the target variables.\n",
    "\n",
    "`torch.sum` returns the sum of all the elements in a tensor. The `.numel` method of a tensor returns the number of elements in a tensor. Let's compute the mean squared error for the current predictions of our model."
   ]
  },
  {
   "cell_type": "code",
   "execution_count": 7,
   "id": "63cf91a3",
   "metadata": {},
   "outputs": [],
   "source": [
    "def predict(x,w,b):\n",
    "    return x @ w.t() + b\n",
    "def loss_func(predicted,targets):\n",
    "    diff=predicted-targets\n",
    "    return torch.sum(diff*diff)/diff.numel()"
   ]
  },
  {
   "cell_type": "code",
   "execution_count": 8,
   "id": "66571869",
   "metadata": {},
   "outputs": [],
   "source": [
    "store=[]\n",
    "for _ in range(epochs+1):\n",
    "    y=predict(inputs,weights,bias)\n",
    "    loss=loss_func(y,targets)\n",
    "    loss.backward()\n",
    "    with torch.no_grad():\n",
    "        weights-= weights*lr\n",
    "        bias-=bias*lr\n",
    "        weights.grad.zero_()\n",
    "        bias.grad.zero_()\n",
    "    store.append(np.sqrt(loss.item()))"
   ]
  },
  {
   "cell_type": "code",
   "execution_count": 9,
   "id": "fada7138",
   "metadata": {},
   "outputs": [
    {
     "data": {
      "text/plain": [
       "[<matplotlib.lines.Line2D at 0x1fcbcf31a60>]"
      ]
     },
     "execution_count": 9,
     "metadata": {},
     "output_type": "execute_result"
    },
    {
     "data": {
      "image/png": "[encoded data removed]",
      "text/plain": [
       "<Figure size 432x288 with 1 Axes>"
      ]
     },
     "metadata": {
      "needs_background": "light"
     },
     "output_type": "display_data"
    }
   ],
   "source": [
    "import matplotlib.pyplot as plt\n",
    "%matplotlib inline\n",
    "plt.plot(store)"
   ]
  },
  {
   "cell_type": "code",
   "execution_count": null,
   "id": "ec5efbcc",
   "metadata": {},
   "outputs": [],
   "source": []
  }
 ],
 "metadata": {
  "kernelspec": {
   "display_name": "Python 3 (ipykernel)",
   "language": "python",
   "name": "python3"
  },
  "language_info": {
   "codemirror_mode": {
    "name": "ipython",
    "version": 3
   },
   "file_extension": ".py",
   "mimetype": "text/x-python",
   "name": "python",
   "nbconvert_exporter": "python",
   "pygments_lexer": "ipython3",
   "version": "3.9.12"
  }
 },
 "nbformat": 4,
 "nbformat_minor": 5
}
